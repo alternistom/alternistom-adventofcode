{
 "cells": [
  {
   "cell_type": "code",
   "execution_count": 2,
   "id": "70d743b9-167d-478c-ae53-845e41fbf43d",
   "metadata": {},
   "outputs": [],
   "source": [
    "left = []\n",
    "right = []\n",
    "\n",
    "with open('01-input.txt', 'r') as file:\n",
    "    for line in file:\n",
    "        parts = line.strip().split()\n",
    "        if len(parts) == 2:\n",
    "            left.append(int(parts[0]))\n",
    "            right.append(int(parts[1]))"
   ]
  },
  {
   "cell_type": "code",
   "execution_count": 4,
   "id": "c2a624fe-469f-44b3-8170-1086e8945725",
   "metadata": {},
   "outputs": [],
   "source": [
    "leftSorted = sorted(left)\n",
    "rightSorted = sorted(right)"
   ]
  },
  {
   "cell_type": "code",
   "execution_count": 8,
   "id": "64e6aa8b-debf-47e8-b555-7a07f59dc571",
   "metadata": {},
   "outputs": [],
   "source": [
    "differenceList = []"
   ]
  },
  {
   "cell_type": "code",
   "execution_count": 13,
   "id": "74b0275b-46fb-4643-857d-dec839261d0c",
   "metadata": {},
   "outputs": [],
   "source": [
    "for i, element in enumerate(leftSorted):\n",
    "    differenceList.append(abs(rightSorted[i]-element))"
   ]
  },
  {
   "cell_type": "code",
   "execution_count": 14,
   "id": "f104fb93-2363-4e66-9bd2-d6c5e21e5163",
   "metadata": {},
   "outputs": [
    {
     "name": "stdout",
     "output_type": "stream",
     "text": [
      "2176849\n"
     ]
    }
   ],
   "source": [
    "print(sum(differenceList))"
   ]
  },
  {
   "cell_type": "code",
   "execution_count": null,
   "id": "f7914e0a-d380-4140-8b58-d812f493f057",
   "metadata": {},
   "outputs": [],
   "source": []
  },
  {
   "cell_type": "code",
   "execution_count": 15,
   "id": "9d4eae09-adf2-463c-944d-d8f9c85919dc",
   "metadata": {},
   "outputs": [],
   "source": [
    "from collections import Counter"
   ]
  },
  {
   "cell_type": "code",
   "execution_count": 16,
   "id": "d1a5a1e0-cb35-46b4-ad71-dee83812a88e",
   "metadata": {},
   "outputs": [
    {
     "name": "stdout",
     "output_type": "stream",
     "text": [
      "Similarity Score: 23384288\n"
     ]
    }
   ],
   "source": [
    "right_count = Counter(right)\n",
    "\n",
    "similarity_score = 0\n",
    "for number in left:\n",
    "    count_in_right = right_count.get(number, 0)\n",
    "    similarity_score += number * count_in_right\n",
    "\n",
    "print(f\"Similarity Score: {similarity_score}\")"
   ]
  }
 ],
 "metadata": {
  "kernelspec": {
   "display_name": "Python 3 (ipykernel)",
   "language": "python",
   "name": "python3"
  },
  "language_info": {
   "codemirror_mode": {
    "name": "ipython",
    "version": 3
   },
   "file_extension": ".py",
   "mimetype": "text/x-python",
   "name": "python",
   "nbconvert_exporter": "python",
   "pygments_lexer": "ipython3",
   "version": "3.12.6"
  }
 },
 "nbformat": 4,
 "nbformat_minor": 5
}
