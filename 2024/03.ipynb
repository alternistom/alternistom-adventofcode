{
 "cells": [
  {
   "cell_type": "code",
   "execution_count": 3,
   "id": "998d2558-1527-44e2-aba3-36d5f15212e8",
   "metadata": {},
   "outputs": [
    {
     "name": "stdout",
     "output_type": "stream",
     "text": [
      "174960292\n"
     ]
    }
   ],
   "source": [
    "import re\n",
    "\n",
    "firstDigitList = []\n",
    "secondDigitList = []\n",
    "pattern = r\"mul\\((\\d{1,3}),(\\d{1,3})\\)\"\n",
    "\n",
    "with open(\"03-input.txt\", \"r\") as file:\n",
    "    content = file.read()\n",
    "\n",
    "matches = re.findall(pattern, content)\n",
    "\n",
    "for match in matches:\n",
    "    first, second = match\n",
    "    firstDigitList.append(int(first))\n",
    "    secondDigitList.append(int(second))\n",
    "\n",
    "multipledList = []\n",
    "\n",
    "for i, element in enumerate(firstDigitList):\n",
    "    multipledList.append(element * secondDigitList[i])\n",
    "\n",
    "\n",
    "print(sum(multipledList))\n"
   ]
  },
  {
   "cell_type": "code",
   "execution_count": 4,
   "id": "6946bfa0-24b8-41d1-903e-591728765b98",
   "metadata": {},
   "outputs": [
    {
     "name": "stdout",
     "output_type": "stream",
     "text": [
      "56275602\n"
     ]
    }
   ],
   "source": [
    "import re\n",
    "\n",
    "multipledList = []\n",
    "is_mul_enabled = True\n",
    "mul_pattern = r\"mul\\((\\d{1,3}),(\\d{1,3})\\)\"\n",
    "do_pattern = r\"do\\(\\)\"\n",
    "dont_pattern = r\"don't\\(\\)\"\n",
    "\n",
    "with open(\"03-input.txt\", \"r\") as file:\n",
    "    content = file.read()\n",
    "\n",
    "tokens = re.split(f\"({mul_pattern}|{do_pattern}|{dont_pattern})\", content)\n",
    "\n",
    "for token in tokens:\n",
    "    if token is None or token.strip() == \"\":\n",
    "        continue\n",
    "\n",
    "    if re.match(do_pattern, token):\n",
    "        is_mul_enabled = True\n",
    "    elif re.match(dont_pattern, token):\n",
    "        is_mul_enabled = False\n",
    "\n",
    "    elif re.match(mul_pattern, token):\n",
    "        if is_mul_enabled:\n",
    "            match = re.match(mul_pattern, token)\n",
    "            if match:\n",
    "                first, second = map(int, match.groups())\n",
    "                multipledList.append(first * second)\n",
    "\n",
    "result = sum(multipledList)\n",
    "print(result)\n"
   ]
  }
 ],
 "metadata": {
  "kernelspec": {
   "display_name": "Python 3 (ipykernel)",
   "language": "python",
   "name": "python3"
  },
  "language_info": {
   "codemirror_mode": {
    "name": "ipython",
    "version": 3
   },
   "file_extension": ".py",
   "mimetype": "text/x-python",
   "name": "python",
   "nbconvert_exporter": "python",
   "pygments_lexer": "ipython3",
   "version": "3.11.5"
  }
 },
 "nbformat": 4,
 "nbformat_minor": 5
}
