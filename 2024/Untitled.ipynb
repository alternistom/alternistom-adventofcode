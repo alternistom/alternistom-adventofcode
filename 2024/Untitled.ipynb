{
 "cells": [
  {
   "cell_type": "code",
   "execution_count": 1,
   "id": "2a78ff6a-2be4-4788-84a1-a8d9d4d59d2b",
   "metadata": {},
   "outputs": [
    {
     "name": "stdout",
     "output_type": "stream",
     "text": [
      "Number of safe reports: 379\n"
     ]
    }
   ],
   "source": [
    "def is_safe_report(report):\n",
    "    differences = [report[i + 1] - report[i] for i in range(len(report) - 1)]\n",
    "    if all(1 <= diff <= 3 for diff in differences):\n",
    "        return True\n",
    "    if all(-3 <= diff <= -1 for diff in differences):\n",
    "        return True\n",
    "    return False\n",
    "    \n",
    "def count_safe_reports(reports):\n",
    "    \"\"\"Count the number of safe reports.\"\"\"\n",
    "    safe_count = 0\n",
    "    for report in reports:\n",
    "        if is_safe_report(report):\n",
    "            safe_count += 1\n",
    "    return safe_count\n",
    "\n",
    "with open(\"02-input.txt\", \"r\") as file:\n",
    "    reports = [list(map(int, line.split())) for line in file]\n",
    "\n",
    "safe_reports = count_safe_reports(reports)\n",
    "print(f\"Number of safe reports: {safe_reports}\")\n"
   ]
  }
 ],
 "metadata": {
  "kernelspec": {
   "display_name": "Python 3 (ipykernel)",
   "language": "python",
   "name": "python3"
  },
  "language_info": {
   "codemirror_mode": {
    "name": "ipython",
    "version": 3
   },
   "file_extension": ".py",
   "mimetype": "text/x-python",
   "name": "python",
   "nbconvert_exporter": "python",
   "pygments_lexer": "ipython3",
   "version": "3.12.6"
  }
 },
 "nbformat": 4,
 "nbformat_minor": 5
}
