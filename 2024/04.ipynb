{
 "cells": [
  {
   "cell_type": "code",
   "execution_count": 1,
   "id": "ad6f0e8d-4bf2-43af-8807-1279f5cb2c7c",
   "metadata": {},
   "outputs": [
    {
     "name": "stdout",
     "output_type": "stream",
     "text": [
      "Number of XMAS occurrences: 2599\n"
     ]
    }
   ],
   "source": [
    "def count_xmas_occurrences(grid, word=\"XMAS\"):\n",
    "    rows = len(grid)\n",
    "    cols = len(grid[0])\n",
    "    word_length = len(word)\n",
    "    count = 0\n",
    "\n",
    "    directions = [\n",
    "        (0, 1),   # right\n",
    "        (0, -1),  # left\n",
    "        (1, 0),   # down\n",
    "        (-1, 0),  # up\n",
    "        (1, 1),   # down-right\n",
    "        (1, -1),  # down-left\n",
    "        (-1, 1),  # up-right\n",
    "        (-1, -1)  # up-left\n",
    "    ]\n",
    "\n",
    "    def is_valid(r, c):\n",
    "        return 0 <= r < rows and 0 <= c < cols\n",
    "\n",
    "    for r in range(rows):\n",
    "        for c in range(cols):\n",
    "            for dr, dc in directions:\n",
    "                match = True\n",
    "                for k in range(word_length):\n",
    "                    nr, nc = r + k * dr, c + k * dc\n",
    "                    if not is_valid(nr, nc) or grid[nr][nc] != word[k]:\n",
    "                        match = False\n",
    "                        break\n",
    "                if match:\n",
    "                    count += 1\n",
    "\n",
    "    return count\n",
    "\n",
    "filename = \"input-4.txt\"\n",
    "with open(filename, \"r\") as file:\n",
    "    grid = [list(line.strip()) for line in file.readlines()]\n",
    "\n",
    "result = count_xmas_occurrences(grid)\n",
    "print(\"Number of XMAS occurrences:\", result)"
   ]
  },
  {
   "cell_type": "code",
   "execution_count": 3,
   "id": "59668a18-41ba-4cc5-bd6f-9a38d2c066d6",
   "metadata": {},
   "outputs": [
    {
     "name": "stdout",
     "output_type": "stream",
     "text": [
      "Number of X-MAS occurrences: 953\n"
     ]
    }
   ],
   "source": [
    "def count_xmas_crosses(grid):\n",
    "    rows = len(grid)\n",
    "    cols = len(grid[0])\n",
    "    count = 0\n",
    "\n",
    "    # Define offsets for the \"X-MAS\" pattern\n",
    "    patterns = [\n",
    "        # M.S\n",
    "        #  A\n",
    "        # M.S\n",
    "        [(-1, -1), (-1, 1), (0, 0), (1, -1), (1, 1)],  # Forward MAS\n",
    "        [(-1, 1), (-1, -1), (0, 0), (1, 1), (1, -1)],  # Backward MAS\n",
    "    ]\n",
    "\n",
    "    def is_valid(r, c):\n",
    "        return 0 <= r < rows and 0 <= c < cols\n",
    "\n",
    "    for r in range(rows):\n",
    "        for c in range(cols):\n",
    "            for pattern in patterns:\n",
    "                match = True\n",
    "                for i, (dr, dc) in enumerate(pattern):\n",
    "                    nr, nc = r + dr, c + dc\n",
    "                    if not is_valid(nr, nc):\n",
    "                        match = False\n",
    "                        break\n",
    "                    if i in [0, 3]:  # \"M\" positions\n",
    "                        if grid[nr][nc] != \"M\":\n",
    "                            match = False\n",
    "                            break\n",
    "                    elif i in [1, 4]:  # \"S\" positions\n",
    "                        if grid[nr][nc] != \"S\":\n",
    "                            match = False\n",
    "                            break\n",
    "                    elif i == 2:  # \"A\" position\n",
    "                        if grid[nr][nc] != \"A\":\n",
    "                            match = False\n",
    "                            break\n",
    "                if match:\n",
    "                    count += 1\n",
    "\n",
    "    return count\n",
    "\n",
    "\n",
    "# Read the grid from input-4.txt\n",
    "filename = \"input-4.txt\"\n",
    "with open(filename, \"r\") as file:\n",
    "    grid = [list(line.strip()) for line in file.readlines()]\n",
    "\n",
    "# Count occurrences of X-MAS\n",
    "result = count_xmas_crosses(grid)\n",
    "print(\"Number of X-MAS occurrences:\", result)\n"
   ]
  }
 ],
 "metadata": {
  "kernelspec": {
   "display_name": "Python 3 (ipykernel)",
   "language": "python",
   "name": "python3"
  },
  "language_info": {
   "codemirror_mode": {
    "name": "ipython",
    "version": 3
   },
   "file_extension": ".py",
   "mimetype": "text/x-python",
   "name": "python",
   "nbconvert_exporter": "python",
   "pygments_lexer": "ipython3",
   "version": "3.11.5"
  }
 },
 "nbformat": 4,
 "nbformat_minor": 5
}
