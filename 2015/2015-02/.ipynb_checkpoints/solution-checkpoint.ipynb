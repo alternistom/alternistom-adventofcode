{
 "cells": [
  {
   "cell_type": "markdown",
   "id": "e9228ca2",
   "metadata": {},
   "source": [
    "# Puzzle 1"
   ]
  },
  {
   "cell_type": "markdown",
   "id": "7d0af4bb",
   "metadata": {},
   "source": [
    "### Find the surface area of the box, which is 2*l*w + 2*w*h + 2*h*l. The elves also need a little extra paper for each present: the area of the smallest side."
   ]
  },
  {
   "cell_type": "code",
   "execution_count": 21,
   "id": "f12c3444",
   "metadata": {},
   "outputs": [],
   "source": [
    "f = open(\"input.txt\", \"r\")\n",
    "txt = f.read()\n",
    "f.close()"
   ]
  },
  {
   "cell_type": "code",
   "execution_count": 22,
   "id": "58cd9d28",
   "metadata": {},
   "outputs": [],
   "source": [
    "lines = txt.split(\"\\n\")"
   ]
  },
  {
   "cell_type": "code",
   "execution_count": 23,
   "id": "ed467858",
   "metadata": {},
   "outputs": [
    {
     "name": "stdout",
     "output_type": "stream",
     "text": [
      "1598415\n"
     ]
    }
   ],
   "source": [
    "paper = 0\n",
    "\n",
    "for line in lines:\n",
    "    sides = list(map(int, line.split(\"x\")))\n",
    "    \n",
    "    l = sides[0]\n",
    "    w = sides[1]\n",
    "    h = sides[2]\n",
    "    \n",
    "    surfArea = 2*l*w + 2*w*h + 2*h*l\n",
    "    \n",
    "    sides.remove(max(sides))\n",
    "    \n",
    "    paper += surfArea\n",
    "    paper += sides[0] * sides[1]\n",
    "    \n",
    "print(paper)  "
   ]
  },
  {
   "cell_type": "markdown",
   "id": "cc75ea5d",
   "metadata": {},
   "source": [
    "# Puzzle 2"
   ]
  },
  {
   "cell_type": "code",
   "execution_count": 24,
   "id": "78008460",
   "metadata": {},
   "outputs": [
    {
     "name": "stdout",
     "output_type": "stream",
     "text": [
      "3812909\n"
     ]
    }
   ],
   "source": [
    "ribbon = 0\n",
    "\n",
    "for line in lines:\n",
    "    sides = list(map(int, line.split(\"x\")))\n",
    "    \n",
    "    l = sides[0]\n",
    "    w = sides[1]\n",
    "    h = sides[2]\n",
    "    \n",
    "    ribbon += sides[0] * sides[1] * sides[2]\n",
    "    \n",
    "    sides.remove(max(sides))\n",
    "    \n",
    "    ribbon += 2*sides[0] + 2*sides[1]\n",
    "    \n",
    "print(ribbon)"
   ]
  }
 ],
 "metadata": {
  "kernelspec": {
   "display_name": "Python 3 (ipykernel)",
   "language": "python",
   "name": "python3"
  },
  "language_info": {
   "codemirror_mode": {
    "name": "ipython",
    "version": 3
   },
   "file_extension": ".py",
   "mimetype": "text/x-python",
   "name": "python",
   "nbconvert_exporter": "python",
   "pygments_lexer": "ipython3",
   "version": "3.8.4"
  }
 },
 "nbformat": 4,
 "nbformat_minor": 5
}
