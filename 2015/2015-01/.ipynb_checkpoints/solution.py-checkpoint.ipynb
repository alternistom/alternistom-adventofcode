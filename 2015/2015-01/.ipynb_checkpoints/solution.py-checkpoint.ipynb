{
 "cells": [
  {
   "cell_type": "markdown",
   "id": "40a8dead",
   "metadata": {},
   "source": [
    "# Puzzle 1"
   ]
  },
  {
   "cell_type": "markdown",
   "id": "27d24236",
   "metadata": {},
   "source": [
    "### An opening parenthesis, (, means he should go up one floor, and a closing parenthesis, ), means he should go down one floor."
   ]
  },
  {
   "cell_type": "code",
   "execution_count": 18,
   "id": "c8947aa7",
   "metadata": {},
   "outputs": [],
   "source": [
    "f = open(\"input.txt\", \"r\")\n",
    "txt = f.read()\n",
    "f.close()"
   ]
  },
  {
   "cell_type": "code",
   "execution_count": 19,
   "id": "bbbb93b8",
   "metadata": {},
   "outputs": [],
   "source": [
    "up = txt.count(\"(\")"
   ]
  },
  {
   "cell_type": "code",
   "execution_count": 20,
   "id": "bdaf2210",
   "metadata": {},
   "outputs": [],
   "source": [
    "down = txt.count(\")\")"
   ]
  },
  {
   "cell_type": "code",
   "execution_count": 21,
   "id": "f7717cb2",
   "metadata": {},
   "outputs": [],
   "source": [
    "floor = up - down"
   ]
  },
  {
   "cell_type": "code",
   "execution_count": 22,
   "id": "5e113133",
   "metadata": {},
   "outputs": [
    {
     "name": "stdout",
     "output_type": "stream",
     "text": [
      "138\n"
     ]
    }
   ],
   "source": [
    "print(floor)"
   ]
  },
  {
   "cell_type": "markdown",
   "id": "4be3e193",
   "metadata": {},
   "source": [
    "# Puzzle 2"
   ]
  },
  {
   "cell_type": "markdown",
   "id": "bc6b17ed",
   "metadata": {},
   "source": [
    "### Find the position of the first character that causes him to enter the basement (floor -1). The first character in the instructions has position 1, the second character has position 2, and so on."
   ]
  },
  {
   "cell_type": "code",
   "execution_count": 25,
   "id": "388df287",
   "metadata": {},
   "outputs": [
    {
     "name": "stdout",
     "output_type": "stream",
     "text": [
      "1771\n"
     ]
    }
   ],
   "source": [
    "start = 0\n",
    "charindex = 0\n",
    "\n",
    "for char in txt:\n",
    "    if char == '(':\n",
    "        start += 1\n",
    "        charindex += 1\n",
    "    else:\n",
    "        start -= 1\n",
    "        charindex += 1\n",
    "        if start == -1:\n",
    "            print(charindex)\n",
    "            break"
   ]
  }
 ],
 "metadata": {
  "kernelspec": {
   "display_name": "Python 3 (ipykernel)",
   "language": "python",
   "name": "python3"
  },
  "language_info": {
   "codemirror_mode": {
    "name": "ipython",
    "version": 3
   },
   "file_extension": ".py",
   "mimetype": "text/x-python",
   "name": "python",
   "nbconvert_exporter": "python",
   "pygments_lexer": "ipython3",
   "version": "3.8.4"
  }
 },
 "nbformat": 4,
 "nbformat_minor": 5
}
