{
 "cells": [
  {
   "cell_type": "code",
   "execution_count": 4,
   "metadata": {},
   "outputs": [],
   "source": [
    "def ruleThreeVovwels(input: str):\n",
    "    vowels = 'aeiou'\n",
    "    vowel_count = sum(1 for char in input if char.lower() in vowels)\n",
    "\n",
    "    if vowel_count >= 3:\n",
    "        return True\n",
    "    return False\n",
    "\n",
    "def ruleDoubleLetter(input: str):\n",
    "    for i in range(len(input) - 1):\n",
    "        if input[i] == input[i + 1]:\n",
    "            return True\n",
    "    return False\n",
    "\n",
    "def ruleNoneOfThese(input: str):\n",
    "    if \"ab\" in input or \"cd\" in input or \"pq\" in input or \"xy\" in input:\n",
    "        return False\n",
    "    return True\n",
    "\n",
    "\n",
    "def checkIfOkay(input: str):\n",
    "    \n",
    "    three = ruleThreeVovwels(input)\n",
    "    double = ruleDoubleLetter(input)\n",
    "    nono = ruleNoneOfThese(input)\n",
    "\n",
    "    return three and double and nono\n",
    "\n",
    "with open(\"2015-05-Input.txt\", \"r\") as file:\n",
    "    lines = file.read().split(\"\\n\")\n",
    "\n",
    "howMany = 0\n",
    "\n",
    "for line in lines:\n",
    "\n",
    "    result = checkIfOkay(line)\n",
    "\n",
    "    if result:\n",
    "        howMany += 1\n",
    "\n",
    "print(howMany)"
   ]
  },
  {
   "cell_type": "code",
   "execution_count": 6,
   "metadata": {},
   "outputs": [
    {
     "name": "stdout",
     "output_type": "stream",
     "text": [
      "51\n"
     ]
    }
   ],
   "source": [
    "def ruleHasNonOverlappingPair(input: str):\n",
    "    # Iterate over the string to get pairs of characters\n",
    "    for i in range(len(input) - 1):\n",
    "        pair = input[i:i + 2]\n",
    "\n",
    "        # Check if the pair appears again later in the string\n",
    "        if input.find(pair, i + 2) != -1:\n",
    "            return True\n",
    "\n",
    "    return False\n",
    "\n",
    "def ruleHasRepeatingLetterWithOneBetween(input: str):\n",
    "    for i in range(len(input) - 2):\n",
    "        if input[i] == input[i + 2]:\n",
    "            return True\n",
    "    return False\n",
    "\n",
    "\n",
    "def checkIfOkay(input: str):\n",
    "    \n",
    "    overlap = ruleHasNonOverlappingPair(input)\n",
    "    repeating = ruleHasRepeatingLetterWithOneBetween(input)\n",
    "\n",
    "    return overlap and repeating\n",
    "\n",
    "with open(\"2015-05-Input.txt\", \"r\") as file:\n",
    "    lines = file.read().split(\"\\n\")\n",
    "\n",
    "howMany = 0\n",
    "\n",
    "for line in lines:\n",
    "\n",
    "    result = checkIfOkay(line)\n",
    "\n",
    "    if result:\n",
    "        howMany += 1\n",
    "\n",
    "print(howMany)"
   ]
  }
 ],
 "metadata": {
  "kernelspec": {
   "display_name": "Python 3",
   "language": "python",
   "name": "python3"
  },
  "language_info": {
   "codemirror_mode": {
    "name": "ipython",
    "version": 3
   },
   "file_extension": ".py",
   "mimetype": "text/x-python",
   "name": "python",
   "nbconvert_exporter": "python",
   "pygments_lexer": "ipython3",
   "version": "3.11.5"
  }
 },
 "nbformat": 4,
 "nbformat_minor": 2
}
