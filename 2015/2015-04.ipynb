{
 "cells": [
  {
   "cell_type": "code",
   "execution_count": 1,
   "metadata": {},
   "outputs": [
    {
     "data": {
      "text/plain": [
       "117946"
      ]
     },
     "execution_count": 1,
     "metadata": {},
     "output_type": "execute_result"
    }
   ],
   "source": [
    "import hashlib\n",
    "\n",
    "def mine_adventcoins(secret_key):\n",
    "    # Starting with number 1 and incrementing to find the correct hash\n",
    "    number = 1\n",
    "    while True:\n",
    "        # Concatenating the secret key with the current number\n",
    "        input_str = secret_key + str(number)\n",
    "\n",
    "        # Calculating the MD5 hash\n",
    "        hash_result = hashlib.md5(input_str.encode()).hexdigest()\n",
    "\n",
    "        # Checking if the hash starts with five zeros\n",
    "        if hash_result.startswith('00000'):\n",
    "            return number\n",
    "\n",
    "        number += 1\n",
    "\n",
    "# Your puzzle input\n",
    "secret_key = \"ckczppom\"\n",
    "mine_adventcoins(secret_key)"
   ]
  },
  {
   "cell_type": "code",
   "execution_count": 2,
   "metadata": {},
   "outputs": [
    {
     "data": {
      "text/plain": [
       "3938038"
      ]
     },
     "execution_count": 2,
     "metadata": {},
     "output_type": "execute_result"
    }
   ],
   "source": [
    "def mine_adventcoins_six_zeroes(secret_key):\n",
    "    # Starting with number 1 and incrementing to find the correct hash\n",
    "    number = 1\n",
    "    while True:\n",
    "        # Concatenating the secret key with the current number\n",
    "        input_str = secret_key + str(number)\n",
    "\n",
    "        # Calculating the MD5 hash\n",
    "        hash_result = hashlib.md5(input_str.encode()).hexdigest()\n",
    "\n",
    "        # Checking if the hash starts with six zeros\n",
    "        if hash_result.startswith('000000'):\n",
    "            return number\n",
    "\n",
    "        number += 1\n",
    "\n",
    "# Finding the number for six zeroes\n",
    "mine_adventcoins_six_zeroes(secret_key)"
   ]
  }
 ],
 "metadata": {
  "kernelspec": {
   "display_name": "Python 3",
   "language": "python",
   "name": "python3"
  },
  "language_info": {
   "codemirror_mode": {
    "name": "ipython",
    "version": 3
   },
   "file_extension": ".py",
   "mimetype": "text/x-python",
   "name": "python",
   "nbconvert_exporter": "python",
   "pygments_lexer": "ipython3",
   "version": "3.11.5"
  }
 },
 "nbformat": 4,
 "nbformat_minor": 2
}
