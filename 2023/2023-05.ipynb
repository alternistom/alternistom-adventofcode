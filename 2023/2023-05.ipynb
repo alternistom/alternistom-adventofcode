{
 "cells": [
  {
   "cell_type": "code",
   "execution_count": 1,
   "metadata": {},
   "outputs": [
    {
     "name": "stdout",
     "output_type": "stream",
     "text": [
      "Part1: 107430936\n",
      "Part2: 23738616\n"
     ]
    }
   ],
   "source": [
    "import re\n",
    "from functools import reduce\n",
    "\n",
    "almanac = open(\"2023-05-Input.txt\").read().rstrip()\n",
    "entries = almanac.split(\"\\n\\n\")\n",
    "seeds = list(map(int, re.findall(r\"\\d+\", entries[0])))\n",
    "\n",
    "maps = []\n",
    "for mp in entries[1:]:\n",
    "    m = []\n",
    "    for line in mp.split(\"\\n\")[1:]:\n",
    "        e, b, d = map(int, re.findall(r\"\\d+\", line))\n",
    "        m.append([b, b + d - 1, e - b])\n",
    "    maps.append(sorted(m))\n",
    "\n",
    "def lookup(s, m):\n",
    "    for b, e, d in m:\n",
    "        if   s > e: continue\n",
    "        elif s < b: return s\n",
    "        else:       return s + d\n",
    "    return s\n",
    "\n",
    "def lookup2(s, t, m):\n",
    "    rs = []\n",
    "    # begin, end, delta\n",
    "    for b, e, d in m:\n",
    "        #                          b.........e  [s-t]\n",
    "        if s>e or t<b: # or: [s-t] b.........e\n",
    "            continue\n",
    "        if s < b: #            [s--b-----?t].e  ?t]\n",
    "            rs += [(s, b - 1), (b + d, min(e, t) + d)]\n",
    "        else: #                    b.[s--?t].e  ?t]\n",
    "            rs += [(s + d, min(e, t) + d)]\n",
    "\n",
    "        if e > t: return rs #      b.[s--t]..e  \n",
    "        s = e\n",
    "    if not rs: rs = [(s, t)]\n",
    "    return rs\n",
    "\n",
    "def process2(p):\n",
    "    r = [(p[0], p[0] + p[1])]\n",
    "    for m in maps:\n",
    "        rs = []\n",
    "        for s, t in r:\n",
    "            rs += lookup2(s, t, m)\n",
    "        r = rs\n",
    "    return min(rs)[0]\n",
    "\n",
    "locations  = [reduce(lookup, maps, s) for s in seeds]\n",
    "locations2 = [process2((seeds[i:i + 2])) for i in range(0, len(seeds), 2)]\n",
    "\n",
    "print(f\"Part1: {min(locations)}\\nPart2: {min(locations2)}\")"
   ]
  }
 ],
 "metadata": {
  "kernelspec": {
   "display_name": "Python 3",
   "language": "python",
   "name": "python3"
  },
  "language_info": {
   "codemirror_mode": {
    "name": "ipython",
    "version": 3
   },
   "file_extension": ".py",
   "mimetype": "text/x-python",
   "name": "python",
   "nbconvert_exporter": "python",
   "pygments_lexer": "ipython3",
   "version": "3.11.5"
  }
 },
 "nbformat": 4,
 "nbformat_minor": 2
}
