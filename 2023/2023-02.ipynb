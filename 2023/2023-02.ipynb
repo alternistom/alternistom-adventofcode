{
 "cells": [
  {
   "cell_type": "code",
   "execution_count": 10,
   "metadata": {},
   "outputs": [],
   "source": [
    "txt = \"\"\"Game 1: 3 blue, 4 red; 1 red, 2 green, 6 blue; 2 green\n",
    "Game 2: 1 blue, 2 green; 3 green, 4 blue, 1 red; 1 green, 1 blue\n",
    "Game 3: 8 green, 6 blue, 20 red; 5 blue, 4 red, 13 green; 5 green, 1 red\n",
    "Game 4: 1 green, 3 red, 6 blue; 3 green, 6 red; 3 green, 15 blue, 14 red\n",
    "Game 5: 6 red, 1 blue, 3 green; 2 blue, 1 red, 2 green\"\"\""
   ]
  },
  {
   "cell_type": "code",
   "execution_count": 36,
   "metadata": {},
   "outputs": [
    {
     "name": "stdout",
     "output_type": "stream",
     "text": [
      "2176\n"
     ]
    }
   ],
   "source": [
    "import regex\n",
    "\n",
    "with open(\"2023-02-Input.txt\", \"r\") as file:\n",
    "    lines = file.read().split(\"\\n\")\n",
    "\n",
    "rules = {\n",
    "    'red': 12,\n",
    "    'green': 13,\n",
    "    'blue': 14\n",
    "}\n",
    "\n",
    "possibleGames = []\n",
    "\n",
    "for index, game in enumerate(lines):\n",
    "\n",
    "    possibleGame = True\n",
    "    multipleDraws = game.split(';')\n",
    "    \n",
    "    for draw in multipleDraws:\n",
    "        # to remove 'Game x: ' from before the line \n",
    "        cleanDraw = regex.sub(r'^[^:]*:\\s*', '', draw).strip()\n",
    "\n",
    "        itemsInDraw = cleanDraw.split(', ')\n",
    "\n",
    "        drawDict = {}\n",
    "\n",
    "        for item in itemsInDraw:\n",
    "            number, color = item.split()\n",
    "            drawDict[color] = int(number)\n",
    "\n",
    "        for color, value in drawDict.items():\n",
    "            if color in rules and value > rules[color]:\n",
    "                possibleGame = False\n",
    "\n",
    "    if possibleGame:\n",
    "        possibleGames.append(index + 1)\n",
    "\n",
    "print(sum(possibleGames))"
   ]
  },
  {
   "cell_type": "code",
   "execution_count": 45,
   "metadata": {},
   "outputs": [
    {
     "name": "stdout",
     "output_type": "stream",
     "text": [
      "63700\n"
     ]
    }
   ],
   "source": [
    "import regex\n",
    "\n",
    "with open(\"2023-02-Input.txt\", \"r\") as file:\n",
    "    lines = file.read().split(\"\\n\")\n",
    "\n",
    "rules = {\n",
    "    'red': 12,\n",
    "    'green': 13,\n",
    "    'blue': 14\n",
    "}\n",
    "\n",
    "powers = []\n",
    "\n",
    "for index, game in enumerate(lines):\n",
    "\n",
    "    possibleGame = True\n",
    "    multipleDraws = game.split(';')\n",
    "\n",
    "    drawDict = {\n",
    "            'red': 0,\n",
    "            'green': 0,\n",
    "            'blue': 0\n",
    "        }\n",
    "    \n",
    "    for draw in multipleDraws:\n",
    "        # to remove 'Game x: ' from before the line \n",
    "        cleanDraw = regex.sub(r'^[^:]*:\\s*', '', draw).strip()\n",
    "\n",
    "        itemsInDraw = cleanDraw.split(', ')\n",
    "\n",
    "        for item in itemsInDraw:\n",
    "            number, color = item.split()\n",
    "            if int(number) > drawDict[color]:\n",
    "                drawDict[color] = int(number)\n",
    "\n",
    "        for color, value in drawDict.items():\n",
    "            if color in rules and value > rules[color]:\n",
    "                possibleGame = False\n",
    "\n",
    "    powers.append(drawDict['blue'] * drawDict['green'] * drawDict['red'])\n",
    "\n",
    "print(sum(powers))"
   ]
  },
  {
   "cell_type": "code",
   "execution_count": null,
   "metadata": {},
   "outputs": [],
   "source": []
  }
 ],
 "metadata": {
  "kernelspec": {
   "display_name": "Python 3",
   "language": "python",
   "name": "python3"
  },
  "language_info": {
   "codemirror_mode": {
    "name": "ipython",
    "version": 3
   },
   "file_extension": ".py",
   "mimetype": "text/x-python",
   "name": "python",
   "nbconvert_exporter": "python",
   "pygments_lexer": "ipython3",
   "version": "3.11.5"
  }
 },
 "nbformat": 4,
 "nbformat_minor": 2
}
