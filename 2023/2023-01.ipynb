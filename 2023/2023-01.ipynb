{
 "cells": [
  {
   "cell_type": "code",
   "execution_count": 107,
   "metadata": {},
   "outputs": [
    {
     "name": "stdout",
     "output_type": "stream",
     "text": [
      "55017\n"
     ]
    }
   ],
   "source": [
    "import regex\n",
    "\n",
    "def numberExtractor(txtblock):\n",
    "    numbers = regex.findall(r\"\\d\", txtblock)\n",
    "    return int(numbers[0] + numbers[-1])\n",
    "\n",
    "print(sum(map(numberExtractor, open(\"2023-01-Input.txt\"))))"
   ]
  },
  {
   "cell_type": "code",
   "execution_count": 108,
   "metadata": {},
   "outputs": [
    {
     "name": "stdout",
     "output_type": "stream",
     "text": [
      "53539\n"
     ]
    }
   ],
   "source": [
    "import regex\n",
    "\n",
    "def convert_number(word):\n",
    "    found_numbers = regex.findall(r'(\\d|one|two|three|four|five|six|seven|eight|nine)', word, overlapped=True)\n",
    "    \n",
    "    number_mapping = {\n",
    "        'one': '1', 'two': '2', 'three': '3', 'four': '4', 'five': '5',\n",
    "        'six': '6', 'seven': '7', 'eight': '8', 'nine': '9'\n",
    "    }\n",
    "    \n",
    "    digit_numbers = [number_mapping.get(num, num) for num in found_numbers]\n",
    "    \n",
    "    return int(digit_numbers[0] + digit_numbers[-1])\n",
    "\n",
    "with open(\"2023-01-Input.txt\") as file:\n",
    "    total = sum(convert_number(line.strip()) for line in file)\n",
    "\n",
    "print(total)"
   ]
  }
 ],
 "metadata": {
  "kernelspec": {
   "display_name": "Python 3",
   "language": "python",
   "name": "python3"
  },
  "language_info": {
   "codemirror_mode": {
    "name": "ipython",
    "version": 3
   },
   "file_extension": ".py",
   "mimetype": "text/x-python",
   "name": "python",
   "nbconvert_exporter": "python",
   "pygments_lexer": "ipython3",
   "version": "3.11.5"
  }
 },
 "nbformat": 4,
 "nbformat_minor": 2
}
