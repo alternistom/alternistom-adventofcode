{
 "cells": [
  {
   "cell_type": "code",
   "execution_count": 1,
   "metadata": {},
   "outputs": [],
   "source": [
    "dummyText = \"\"\"Card 1: 41 48 83 86 17 | 83 86  6 31 17  9 48 53\n",
    "Card 2: 13 32 20 16 61 | 61 30 68 82 17 32 24 19\n",
    "Card 3:  1 21 53 59 44 | 69 82 63 72 16 21 14  1\n",
    "Card 4: 41 92 73 84 69 | 59 84 76 51 58  5 54 83\n",
    "Card 5: 87 83 26 28 32 | 88 30 70 12 93 22 82 36\n",
    "Card 6: 31 18 13 56 72 | 74 77 10 23 35 67 36 11\"\"\"\n",
    "\n",
    "lines = dummyText.split(\"\\n\")"
   ]
  },
  {
   "cell_type": "code",
   "execution_count": 24,
   "metadata": {},
   "outputs": [
    {
     "name": "stdout",
     "output_type": "stream",
     "text": [
      "25010\n"
     ]
    }
   ],
   "source": [
    "with open(\"2023-04-Input.txt\", \"r\") as file:\n",
    "    lines = file.read().split(\"\\n\")\n",
    "\n",
    "totalPoints = []\n",
    "\n",
    "for line in lines:\n",
    "\n",
    "    part1, part2 = line.split(\"|\")\n",
    "\n",
    "    numbers_before_pipe = [int(num) for num in part1.split(\":\")[1].strip().split()]\n",
    "    numbers_after_pipe = [int(num) for num in part2.strip().split()]\n",
    "\n",
    "    totalLenght = len(numbers_before_pipe) + len(numbers_after_pipe)\n",
    "\n",
    "    numbers = set(numbers_before_pipe + numbers_after_pipe)\n",
    "\n",
    "    matches = totalLenght - len(numbers)\n",
    "\n",
    "    score = 1\n",
    "\n",
    "    for i in range(1, matches):\n",
    "        score *= 2\n",
    "\n",
    "    if matches == 0:\n",
    "        score = 0\n",
    "\n",
    "    totalPoints.append(score)\n",
    "\n",
    "    \n",
    "print(sum(totalPoints))\n",
    "    "
   ]
  },
  {
   "cell_type": "code",
   "execution_count": null,
   "metadata": {},
   "outputs": [],
   "source": []
  }
 ],
 "metadata": {
  "kernelspec": {
   "display_name": "Python 3",
   "language": "python",
   "name": "python3"
  },
  "language_info": {
   "codemirror_mode": {
    "name": "ipython",
    "version": 3
   },
   "file_extension": ".py",
   "mimetype": "text/x-python",
   "name": "python",
   "nbconvert_exporter": "python",
   "pygments_lexer": "ipython3",
   "version": "3.11.5"
  }
 },
 "nbformat": 4,
 "nbformat_minor": 2
}
